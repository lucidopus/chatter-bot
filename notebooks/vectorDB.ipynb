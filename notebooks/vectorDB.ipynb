{
 "cells": [
  {
   "cell_type": "code",
   "execution_count": 1,
   "metadata": {},
   "outputs": [
    {
     "name": "stderr",
     "output_type": "stream",
     "text": [
      "/home/sy-lp-ggn-742/.local/lib/python3.10/site-packages/pinecone/index.py:4: TqdmExperimentalWarning: Using `tqdm.autonotebook.tqdm` in notebook mode. Use `tqdm.tqdm` instead to force console mode (e.g. in jupyter console)\n",
      "  from tqdm.autonotebook import tqdm\n"
     ]
    }
   ],
   "source": [
    "# Imports\n",
    "\n",
    "import pandas as pd\n",
    "import pinecone\n",
    "\n",
    "\n",
    "from langchain.embeddings import OpenAIEmbeddings\n",
    "from langchain.vectorstores.pinecone import Pinecone\n",
    "from langchain_community.vectorstores.pinecone import Pinecone\n",
    "from langchain.docstore.document import Document\n",
    "\n",
    "import warnings\n",
    "\n",
    "warnings.filterwarnings(\"ignore\")\n",
    "\n",
    "import sys\n",
    "\n",
    "sys.path.append(\"../\")\n",
    "\n",
    "from utils.config import PINECONE_CONFIG, AZURE_ADA_PARAMS, PINECONE_INDEX\n",
    "from utils.helper import convert_to_unix_epoch\n",
    "from utils.constants import PROPERTIES_NAMESPACE"
   ]
  },
  {
   "cell_type": "code",
   "execution_count": 2,
   "metadata": {},
   "outputs": [],
   "source": [
    "embeddings = OpenAIEmbeddings(**AZURE_ADA_PARAMS)"
   ]
  },
  {
   "cell_type": "code",
   "execution_count": 3,
   "metadata": {},
   "outputs": [],
   "source": [
    "pinecone.init(**PINECONE_CONFIG)"
   ]
  },
  {
   "cell_type": "code",
   "execution_count": 4,
   "metadata": {},
   "outputs": [],
   "source": [
    "rental = pd.read_csv(\"../data/rental_full.csv\", nrows=20000)\n",
    "resale = pd.read_csv(\"../data/resale_full.csv\", nrows=20000)"
   ]
  },
  {
   "cell_type": "code",
   "execution_count": 5,
   "metadata": {},
   "outputs": [],
   "source": [
    "rental.rename({\"atreainsqft\": \"areainsqft\"}, inplace=True, axis=1)\n",
    "resale.rename({\"atreainsqft\": \"areainsqft\"}, inplace=True, axis=1)"
   ]
  },
  {
   "cell_type": "code",
   "execution_count": 6,
   "metadata": {},
   "outputs": [],
   "source": [
    "df = pd.concat([rental, resale], ignore_index=True)"
   ]
  },
  {
   "cell_type": "code",
   "execution_count": 85,
   "metadata": {},
   "outputs": [],
   "source": [
    "# Replace null values in string columns to ''\n",
    "\n",
    "string_columns = df.select_dtypes(include=\"object\").columns\n",
    "\n",
    "df[string_columns] = df[string_columns].fillna(\"\")"
   ]
  },
  {
   "cell_type": "code",
   "execution_count": 86,
   "metadata": {},
   "outputs": [],
   "source": [
    "# Replace null values in numeric columns with the mode\n",
    "\n",
    "numeric_columns = df.select_dtypes(exclude=\"object\").columns\n",
    "\n",
    "df[numeric_columns] = df[numeric_columns].fillna(df[numeric_columns].mode().iloc[0])"
   ]
  },
  {
   "cell_type": "code",
   "execution_count": 87,
   "metadata": {},
   "outputs": [],
   "source": [
    "df[\"unix_timestamp\"] = df[\"createdon\"].apply(lambda x: convert_to_unix_epoch(x))"
   ]
  },
  {
   "cell_type": "code",
   "execution_count": 88,
   "metadata": {},
   "outputs": [],
   "source": [
    "summary = df[\"summary\"]"
   ]
  },
  {
   "cell_type": "code",
   "execution_count": 89,
   "metadata": {},
   "outputs": [],
   "source": [
    "df = df.applymap(lambda x: x.lower() if type(x) == str else x)"
   ]
  },
  {
   "cell_type": "code",
   "execution_count": 90,
   "metadata": {},
   "outputs": [],
   "source": [
    "df[\"summary\"] = summary"
   ]
  },
  {
   "cell_type": "code",
   "execution_count": 91,
   "metadata": {},
   "outputs": [],
   "source": [
    "summaries = df[\"summary\"]\n",
    "metadata = df[\n",
    "    [\n",
    "        \"propertyid\",\n",
    "        \"cityname\",\n",
    "        \"areainsqft\",\n",
    "        \"number_of_rooms\",\n",
    "        \"furnishing_status\",\n",
    "        \"site_view\",\n",
    "        \"locality\",\n",
    "        \"property_class\",\n",
    "        \"number_of_bathroom\",\n",
    "        \"propertytype\",\n",
    "        \"totalprice\",\n",
    "        \"day\",\n",
    "        \"year\",\n",
    "        \"month\",\n",
    "        \"unix_timestamp\",\n",
    "    ]\n",
    "].to_dict(orient=\"records\")"
   ]
  },
  {
   "cell_type": "code",
   "execution_count": 93,
   "metadata": {},
   "outputs": [],
   "source": [
    "docs = []\n",
    "\n",
    "for i in range(len(summaries)):\n",
    "    docs.append(Document(page_content=summaries[i], metadata=metadata[i]))"
   ]
  },
  {
   "cell_type": "code",
   "execution_count": 96,
   "metadata": {},
   "outputs": [
    {
     "data": {
      "text/plain": [
       "<langchain_community.vectorstores.pinecone.Pinecone at 0x7f0d046bd2d0>"
      ]
     },
     "execution_count": 96,
     "metadata": {},
     "output_type": "execute_result"
    }
   ],
   "source": [
    "Pinecone.from_documents(\n",
    "    documents=docs,\n",
    "    embedding=embeddings,\n",
    "    namespace=PROPERTIES_NAMESPACE,\n",
    "    index_name=PINECONE_INDEX,\n",
    ")"
   ]
  }
 ],
 "metadata": {
  "kernelspec": {
   "display_name": "Python 3",
   "language": "python",
   "name": "python3"
  },
  "language_info": {
   "codemirror_mode": {
    "name": "ipython",
    "version": 3
   },
   "file_extension": ".py",
   "mimetype": "text/x-python",
   "name": "python",
   "nbconvert_exporter": "python",
   "pygments_lexer": "ipython3",
   "version": "3.10.12"
  }
 },
 "nbformat": 4,
 "nbformat_minor": 2
}
